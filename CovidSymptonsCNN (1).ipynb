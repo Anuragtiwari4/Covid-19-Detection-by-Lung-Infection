{
  "nbformat": 4,
  "nbformat_minor": 0,
  "metadata": {
    "colab": {
      "provenance": []
    },
    "kernelspec": {
      "name": "python3",
      "display_name": "Python 3"
    },
    "language_info": {
      "name": "python"
    }
  },
  "cells": [
    {
      "cell_type": "markdown",
      "source": [
        "## Mounting Drive\n"
      ],
      "metadata": {
        "id": "y4YxRIis0ps_"
      }
    },
    {
      "cell_type": "code",
      "execution_count": null,
      "metadata": {
        "colab": {
          "base_uri": "https://localhost:8080/"
        },
        "id": "jw2R2nPU0REN",
        "outputId": "e983ee43-a580-41b1-c82a-dc7307521699"
      },
      "outputs": [
        {
          "output_type": "stream",
          "name": "stdout",
          "text": [
            "Drive already mounted at /content/drive; to attempt to forcibly remount, call drive.mount(\"/content/drive\", force_remount=True).\n"
          ]
        }
      ],
      "source": [
        "from google.colab import drive\n",
        "drive.mount('/content/drive')"
      ]
    },
    {
      "cell_type": "markdown",
      "source": [
        "## Importing Libraries"
      ],
      "metadata": {
        "id": "VqyC_x1d0x_a"
      }
    },
    {
      "cell_type": "code",
      "source": [
        "import tensorflow as tf\n",
        "from keras.preprocessing.image import ImageDataGenerator\n"
      ],
      "metadata": {
        "id": "TnhayRFn0Ss3"
      },
      "execution_count": null,
      "outputs": []
    },
    {
      "cell_type": "markdown",
      "source": [
        "## Data Preprocessing"
      ],
      "metadata": {
        "id": "YZKUZ2w702mI"
      }
    },
    {
      "cell_type": "markdown",
      "source": [
        "Preprocessing the Training Set\n"
      ],
      "metadata": {
        "id": "lePJxmh6091-"
      }
    },
    {
      "cell_type": "code",
      "source": [
        "train_datagen = ImageDataGenerator(\n",
        "    rescale = 1./255,\n",
        "    shear_range = 0.2,\n",
        "    zoom_range = 0.2,\n",
        "    horizontal_flip = True\n",
        ")\n",
        "training_set = train_datagen.flow_from_directory('/content/drive/MyDrive/xray_dataset_covid19/train',\n",
        "                                                 target_size = (64, 64),\n",
        "                                                 batch_size = 32,\n",
        "                                                 class_mode = 'binary')"
      ],
      "metadata": {
        "id": "p5Pan_Fx0kz8",
        "colab": {
          "base_uri": "https://localhost:8080/"
        },
        "outputId": "66f28a36-dc3d-4cb2-9939-5b6ba547693d"
      },
      "execution_count": null,
      "outputs": [
        {
          "output_type": "stream",
          "name": "stdout",
          "text": [
            "Found 148 images belonging to 2 classes.\n"
          ]
        }
      ]
    },
    {
      "cell_type": "markdown",
      "source": [
        "Preprocessing the Testset\n"
      ],
      "metadata": {
        "id": "5wamV-Ar1DNO"
      }
    },
    {
      "cell_type": "code",
      "source": [
        "test_datagen = ImageDataGenerator(rescale = 1./255)\n",
        "test_set = test_datagen.flow_from_directory('/content/drive/MyDrive/xray_dataset_covid19/test',\n",
        "                                            target_size = (64, 64),\n",
        "                                            batch_size = 32,\n",
        "                                            class_mode = 'binary')"
      ],
      "metadata": {
        "id": "wKjElyFH1GGl",
        "colab": {
          "base_uri": "https://localhost:8080/"
        },
        "outputId": "504e9c0d-9133-4657-d850-7e3b162e5218"
      },
      "execution_count": null,
      "outputs": [
        {
          "output_type": "stream",
          "name": "stdout",
          "text": [
            "Found 40 images belonging to 2 classes.\n"
          ]
        }
      ]
    },
    {
      "cell_type": "markdown",
      "source": [
        "### Building the CNN"
      ],
      "metadata": {
        "id": "ZxvEf_r61ZkD"
      }
    },
    {
      "cell_type": "markdown",
      "source": [
        "Initialing CNN"
      ],
      "metadata": {
        "id": "hxoIEKR31e8R"
      }
    },
    {
      "cell_type": "code",
      "source": [
        "cnn = tf.keras.Sequential()"
      ],
      "metadata": {
        "id": "TjuSibIu1Jcx"
      },
      "execution_count": null,
      "outputs": []
    },
    {
      "cell_type": "markdown",
      "source": [
        "Convolution"
      ],
      "metadata": {
        "id": "gmF7ckAI1luI"
      }
    },
    {
      "cell_type": "code",
      "source": [
        "cnn.add(tf.keras.layers.Conv2D(filters = 32, kernel_size = 3, activation = 'relu', input_shape=[64, 64, 3]))"
      ],
      "metadata": {
        "id": "6Fhy2xkx1o0d"
      },
      "execution_count": null,
      "outputs": []
    },
    {
      "cell_type": "markdown",
      "source": [
        "Pooling"
      ],
      "metadata": {
        "id": "ubW_xcQa1ur2"
      }
    },
    {
      "cell_type": "code",
      "source": [
        "cnn.add(tf.keras.layers.MaxPool2D(pool_size=2, strides=2))"
      ],
      "metadata": {
        "id": "JPeXbckY1rKD"
      },
      "execution_count": null,
      "outputs": []
    },
    {
      "cell_type": "markdown",
      "source": [
        "Adding Second Convolution Layer"
      ],
      "metadata": {
        "id": "pu4_kirf1yvO"
      }
    },
    {
      "cell_type": "code",
      "source": [
        "cnn.add(tf.keras.layers.Conv2D(filters = 32, kernel_size = 3, activation = 'relu'))\n",
        "cnn.add(tf.keras.layers.MaxPool2D(pool_size=2, strides=2))"
      ],
      "metadata": {
        "id": "o6L3KCj_13QK"
      },
      "execution_count": null,
      "outputs": []
    },
    {
      "cell_type": "markdown",
      "source": [
        "Flattening"
      ],
      "metadata": {
        "id": "G7ri5_fz15-d"
      }
    },
    {
      "cell_type": "code",
      "source": [
        "cnn.add(tf.keras.layers.Flatten())"
      ],
      "metadata": {
        "id": "Ddn_be3E19UR"
      },
      "execution_count": null,
      "outputs": []
    },
    {
      "cell_type": "markdown",
      "source": [
        "Full connection"
      ],
      "metadata": {
        "id": "Kx75CID32AEU"
      }
    },
    {
      "cell_type": "code",
      "source": [
        "cnn.add(tf.keras.layers.Dense(units=128, activation='relu'))"
      ],
      "metadata": {
        "id": "rvROkhEI2DHo"
      },
      "execution_count": null,
      "outputs": []
    },
    {
      "cell_type": "markdown",
      "source": [
        "Output Layer"
      ],
      "metadata": {
        "id": "g5qaVXFR2Fuk"
      }
    },
    {
      "cell_type": "code",
      "source": [
        "cnn.add(tf.keras.layers.Dense(units=1, activation='sigmoid'))"
      ],
      "metadata": {
        "id": "khvJSJdl2IJ_"
      },
      "execution_count": null,
      "outputs": []
    },
    {
      "cell_type": "markdown",
      "source": [
        "### Training CNN"
      ],
      "metadata": {
        "id": "qja7RdYF2KXJ"
      }
    },
    {
      "cell_type": "markdown",
      "source": [
        "Compiling CNN"
      ],
      "metadata": {
        "id": "4maQPdpH2Q9x"
      }
    },
    {
      "cell_type": "code",
      "source": [
        "cnn.compile(optimizer = 'adam', loss = 'binary_crossentropy', metrics = ['accuracy'])"
      ],
      "metadata": {
        "id": "kdxAMs4b2OaR"
      },
      "execution_count": null,
      "outputs": []
    },
    {
      "cell_type": "markdown",
      "source": [
        "Training the CNN on the Training set and evaluating it on the Test set"
      ],
      "metadata": {
        "id": "dN_bzgYY2WZe"
      }
    },
    {
      "cell_type": "code",
      "source": [
        "cnn.fit(x = training_set, validation_data = test_set, epochs = 25)"
      ],
      "metadata": {
        "id": "NpvSW9wi2VZ5",
        "colab": {
          "base_uri": "https://localhost:8080/"
        },
        "outputId": "b6512020-f09b-4e51-dbdc-117be8d04822"
      },
      "execution_count": null,
      "outputs": [
        {
          "output_type": "stream",
          "name": "stdout",
          "text": [
            "Epoch 1/25\n",
            "5/5 [==============================] - 47s 9s/step - loss: 0.9086 - accuracy: 0.5473 - val_loss: 0.7836 - val_accuracy: 0.5000\n",
            "Epoch 2/25\n",
            "5/5 [==============================] - 6s 1s/step - loss: 0.7102 - accuracy: 0.5000 - val_loss: 0.6733 - val_accuracy: 0.5000\n",
            "Epoch 3/25\n",
            "5/5 [==============================] - 7s 2s/step - loss: 0.6651 - accuracy: 0.7095 - val_loss: 0.6342 - val_accuracy: 0.9750\n",
            "Epoch 4/25\n",
            "5/5 [==============================] - 6s 1s/step - loss: 0.6507 - accuracy: 0.6419 - val_loss: 0.5601 - val_accuracy: 0.9500\n",
            "Epoch 5/25\n",
            "5/5 [==============================] - 7s 1s/step - loss: 0.5971 - accuracy: 0.7838 - val_loss: 0.4590 - val_accuracy: 0.9500\n",
            "Epoch 6/25\n",
            "5/5 [==============================] - 6s 1s/step - loss: 0.5119 - accuracy: 0.8446 - val_loss: 0.3071 - val_accuracy: 1.0000\n",
            "Epoch 7/25\n",
            "5/5 [==============================] - 6s 1s/step - loss: 0.4378 - accuracy: 0.8311 - val_loss: 0.2124 - val_accuracy: 0.9500\n",
            "Epoch 8/25\n",
            "5/5 [==============================] - 6s 1s/step - loss: 0.4418 - accuracy: 0.7973 - val_loss: 0.1496 - val_accuracy: 0.9500\n",
            "Epoch 9/25\n",
            "5/5 [==============================] - 6s 1s/step - loss: 0.3471 - accuracy: 0.8716 - val_loss: 0.1335 - val_accuracy: 0.9750\n",
            "Epoch 10/25\n",
            "5/5 [==============================] - 7s 1s/step - loss: 0.3444 - accuracy: 0.8311 - val_loss: 0.1322 - val_accuracy: 0.9500\n",
            "Epoch 11/25\n",
            "5/5 [==============================] - 6s 1s/step - loss: 0.3197 - accuracy: 0.8311 - val_loss: 0.1181 - val_accuracy: 0.9500\n",
            "Epoch 12/25\n",
            "5/5 [==============================] - 8s 2s/step - loss: 0.2479 - accuracy: 0.8986 - val_loss: 0.1031 - val_accuracy: 0.9750\n",
            "Epoch 13/25\n",
            "5/5 [==============================] - 7s 2s/step - loss: 0.2111 - accuracy: 0.9392 - val_loss: 0.0990 - val_accuracy: 0.9500\n",
            "Epoch 14/25\n",
            "5/5 [==============================] - 6s 1s/step - loss: 0.2137 - accuracy: 0.8919 - val_loss: 0.1116 - val_accuracy: 0.9500\n",
            "Epoch 15/25\n",
            "5/5 [==============================] - 7s 2s/step - loss: 0.1619 - accuracy: 0.9595 - val_loss: 0.0935 - val_accuracy: 0.9750\n",
            "Epoch 16/25\n",
            "5/5 [==============================] - 6s 1s/step - loss: 0.1925 - accuracy: 0.9595 - val_loss: 0.1100 - val_accuracy: 0.9500\n",
            "Epoch 17/25\n",
            "5/5 [==============================] - 6s 1s/step - loss: 0.2284 - accuracy: 0.8986 - val_loss: 0.0978 - val_accuracy: 0.9500\n",
            "Epoch 18/25\n",
            "5/5 [==============================] - 7s 1s/step - loss: 0.1877 - accuracy: 0.9189 - val_loss: 0.1733 - val_accuracy: 0.9250\n",
            "Epoch 19/25\n",
            "5/5 [==============================] - 6s 1s/step - loss: 0.2541 - accuracy: 0.8986 - val_loss: 0.1937 - val_accuracy: 0.9000\n",
            "Epoch 20/25\n",
            "5/5 [==============================] - 7s 2s/step - loss: 0.2186 - accuracy: 0.8986 - val_loss: 0.0993 - val_accuracy: 0.9500\n",
            "Epoch 21/25\n",
            "5/5 [==============================] - 6s 1s/step - loss: 0.2164 - accuracy: 0.9054 - val_loss: 0.1083 - val_accuracy: 0.9750\n",
            "Epoch 22/25\n",
            "5/5 [==============================] - 8s 2s/step - loss: 0.1873 - accuracy: 0.9392 - val_loss: 0.0943 - val_accuracy: 0.9750\n",
            "Epoch 23/25\n",
            "5/5 [==============================] - 6s 1s/step - loss: 0.1743 - accuracy: 0.9189 - val_loss: 0.0916 - val_accuracy: 0.9500\n",
            "Epoch 24/25\n",
            "5/5 [==============================] - 7s 1s/step - loss: 0.1699 - accuracy: 0.9392 - val_loss: 0.0879 - val_accuracy: 0.9750\n",
            "Epoch 25/25\n",
            "5/5 [==============================] - 6s 1s/step - loss: 0.1466 - accuracy: 0.9459 - val_loss: 0.1001 - val_accuracy: 0.9750\n"
          ]
        },
        {
          "output_type": "execute_result",
          "data": {
            "text/plain": [
              "<keras.src.callbacks.History at 0x7f7ac4308490>"
            ]
          },
          "metadata": {},
          "execution_count": 18
        }
      ]
    },
    {
      "cell_type": "markdown",
      "source": [
        "Making a single prediction"
      ],
      "metadata": {
        "id": "NmkYpYe_2chm"
      }
    },
    {
      "cell_type": "code",
      "source": [
        "import numpy as np\n",
        "from keras.preprocessing import image\n",
        "test_image = image.load_img('/content/drive/MyDrive/xray_dataset_covid19/test/NORMAL/NORMAL2-IM-0035-0001.jpeg', target_size = (64, 64))\n",
        "test_image = image.img_to_array(test_image)\n",
        "test_image = np.expand_dims(test_image, axis = 0)\n",
        "result = cnn.predict(test_image)\n",
        "training_set.class_indices\n",
        "if result[0][0] == 1:\n",
        "  prediction = 'Covid symptoms Present'\n",
        "else:\n",
        "  prediction = 'No covid symptoms'"
      ],
      "metadata": {
        "id": "_CK3YVc02fdV",
        "colab": {
          "base_uri": "https://localhost:8080/"
        },
        "outputId": "3854511f-68fe-49ee-bf15-7ef1c98b4dc3"
      },
      "execution_count": null,
      "outputs": [
        {
          "output_type": "stream",
          "name": "stdout",
          "text": [
            "1/1 [==============================] - 0s 207ms/step\n"
          ]
        }
      ]
    },
    {
      "cell_type": "code",
      "source": [
        "print(prediction)"
      ],
      "metadata": {
        "id": "7_ccgMYp2j9X",
        "colab": {
          "base_uri": "https://localhost:8080/"
        },
        "outputId": "6465cafc-8a4a-4d72-f085-f715f8edc263"
      },
      "execution_count": null,
      "outputs": [
        {
          "output_type": "stream",
          "name": "stdout",
          "text": [
            "No covid symptoms\n"
          ]
        }
      ]
    }
  ]
}